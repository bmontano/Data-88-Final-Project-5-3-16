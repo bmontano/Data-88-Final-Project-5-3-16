{
 "cells": [
  {
   "cell_type": "markdown",
   "metadata": {},
   "source": [
    "## 88 Project: Narrative Pace in \"A Passage to India\""
   ]
  },
  {
   "cell_type": "markdown",
   "metadata": {},
   "source": [
    "## Code Preparation"
   ]
  },
  {
   "cell_type": "code",
   "execution_count": null,
   "metadata": {
    "collapsed": false,
    "scrolled": true
   },
   "outputs": [],
   "source": [
    "import numpy as np\n",
    "\n",
    "import nltk\n",
    "from nltk.tokenize import word_tokenize, sent_tokenize\n",
    "from nltk.stem import SnowballStemmer\n",
    "stemmer = SnowballStemmer('english')\n",
    "import string\n",
    "from string import punctuation \n",
    "\n",
    "%matplotlib inline\n",
    "import matplotlib.pyplot as plt\n",
    "plt.style.use('fivethirtyeight')\n",
    "from urllib.request import urlopen \n",
    "from collections import Counter\n",
    "from datascience import *\n",
    "import re\n",
    "\n",
    "def read_url(url): \n",
    "    return re.sub('\\\\s+', ' ', urlopen(url).read().decode())"
   ]
  },
  {
   "cell_type": "markdown",
   "metadata": {},
   "source": [
    "## Data Preparation"
   ]
  },
  {
   "cell_type": "code",
   "execution_count": null,
   "metadata": {
    "collapsed": false,
    "scrolled": true
   },
   "outputs": [],
   "source": [
    "with open('APassageToIndiaText.txt', 'r') as file_in: \n",
    "    passage_string = file_in.read()\n",
    "#With open opens and closes the file \n",
    "#File_in = varible"
   ]
  },
  {
   "cell_type": "code",
   "execution_count": null,
   "metadata": {
    "collapsed": false,
    "scrolled": true
   },
   "outputs": [],
   "source": [
    "#passage_string.replace('\\n', ' ') \n",
    "#Replaces '|n'/line break with a space\n",
    "#Can also replace double space with one space"
   ]
  },
  {
   "cell_type": "code",
   "execution_count": null,
   "metadata": {
    "collapsed": false,
    "scrolled": true
   },
   "outputs": [],
   "source": [
    "passage_string = passage_string.lower()\n",
    "passage_tokens = word_tokenize(passage_string)"
   ]
  },
  {
   "cell_type": "code",
   "execution_count": null,
   "metadata": {
    "collapsed": false,
    "scrolled": true
   },
   "outputs": [],
   "source": [
    "#passage_new = \"\".join([char for char in passage_tokens if char not in string.punctuation]).split()\n",
    "#passage_new"
   ]
  },
  {
   "cell_type": "code",
   "execution_count": null,
   "metadata": {
    "collapsed": false,
    "scrolled": true
   },
   "outputs": [],
   "source": [
    "from collections import Counter\n",
    "passage_dict = Counter(passage_tokens)"
   ]
  },
  {
   "cell_type": "code",
   "execution_count": null,
   "metadata": {
    "collapsed": false,
    "scrolled": true
   },
   "outputs": [],
   "source": [
    "passage_dict.keys()"
   ]
  },
  {
   "cell_type": "code",
   "execution_count": null,
   "metadata": {
    "collapsed": false,
    "scrolled": true
   },
   "outputs": [],
   "source": [
    "passage_dict.values()"
   ]
  },
  {
   "cell_type": "code",
   "execution_count": null,
   "metadata": {
    "collapsed": false,
    "scrolled": true
   },
   "outputs": [],
   "source": [
    "passage_dict.most_common(2)"
   ]
  },
  {
   "cell_type": "code",
   "execution_count": null,
   "metadata": {
    "collapsed": false,
    "scrolled": true
   },
   "outputs": [],
   "source": [
    "len(passage_tokens) / len(passage_dict.keys())\n",
    "#Lexical diversity of the novel! "
   ]
  },
  {
   "cell_type": "markdown",
   "metadata": {
    "collapsed": true
   },
   "source": [
    "## Sentiment Words"
   ]
  },
  {
   "cell_type": "code",
   "execution_count": null,
   "metadata": {
    "collapsed": false,
    "scrolled": true
   },
   "outputs": [],
   "source": [
    "with open('PositiveWordstext.txt') as file_in: \n",
    "    positive_sentiment_words = file_in.read()\n",
    "positive_words = positive_sentiment_words.split()\n",
    "positive_dict = Counter(positive_words)\n",
    "positive_keys = positive_dict.keys()\n",
    "positive_stems = [stemmer.stem(token) for token in positive_keys]"
   ]
  },
  {
   "cell_type": "code",
   "execution_count": null,
   "metadata": {
    "collapsed": false,
    "scrolled": true
   },
   "outputs": [],
   "source": [
    "with open('NegativeWordstext.txt') as file_in: \n",
    "    negative_sentiment_words = file_in.read()\n",
    "negative_words = negative_sentiment_words.split()\n",
    "negative_dict = Counter(negative_words)\n",
    "negative_keys = negative_dict.keys()\n",
    "negative_stems = [stemmer.stem(token) for token in negative_keys]"
   ]
  },
  {
   "cell_type": "code",
   "execution_count": null,
   "metadata": {
    "collapsed": true,
    "scrolled": true
   },
   "outputs": [],
   "source": [
    "#Need to break up text, compare each segment to list of positive or negative words, then count how many positive or negative words\n",
    "#are in the list, then map that across the text"
   ]
  },
  {
   "cell_type": "markdown",
   "metadata": {},
   "source": [
    "# Counting Sentiment Words by Chapter"
   ]
  },
  {
   "cell_type": "code",
   "execution_count": null,
   "metadata": {
    "collapsed": false,
    "scrolled": true
   },
   "outputs": [],
   "source": [
    "chapters_list = passage_string.split('chapter')\n",
    "del chapters_list[0]"
   ]
  },
  {
   "cell_type": "code",
   "execution_count": null,
   "metadata": {
    "collapsed": false,
    "scrolled": true
   },
   "outputs": [],
   "source": [
    "chapters_array = np.array(chapters_list)\n",
    "len(chapters_array)"
   ]
  },
  {
   "cell_type": "code",
   "execution_count": null,
   "metadata": {
    "collapsed": false,
    "scrolled": true
   },
   "outputs": [],
   "source": [
    "chapter_label = ['Chapter ' + str(i+1) for i in range(len(chapters_array))]\n",
    "chapter_text = [i for i in chapters_list]\n",
    "chapter_table = Table().with_column('Chapter', chapter_label).with_column('Segment', chapter_text)\n",
    "chapter_table"
   ]
  },
  {
   "cell_type": "code",
   "execution_count": null,
   "metadata": {
    "collapsed": true,
    "scrolled": true
   },
   "outputs": [],
   "source": [
    "def negative(string): \n",
    "    word_list = []\n",
    "    for i in string.split(): \n",
    "        if stemmer.stem(i) in negative_stems: \n",
    "            word_list.append(i)\n",
    "    return word_list\n",
    "\n",
    "def positive(string): \n",
    "    word_list = []\n",
    "    for i in string.split():\n",
    "        if stemmer.stem(i) in positive_stems:\n",
    "            word_list.append(i)\n",
    "    return word_list"
   ]
  },
  {
   "cell_type": "code",
   "execution_count": null,
   "metadata": {
    "collapsed": false,
    "scrolled": true
   },
   "outputs": [],
   "source": [
    "negative_chapter_words = chapter_table.apply(negative, 'Segment')\n",
    "positive_chapter_words = chapter_table.apply(positive, 'Segment')\n",
    "negative_positive_chapter_table = chapter_table.with_column('Negative Words', negative_chapter_words).with_column(\n",
    "                                                            'Positive Words', positive_chapter_words)\n",
    "negative_chapter_words_len = [len(i) for i in negative_positive_chapter_table.column('Negative Words')]\n",
    "positive_chapter_words_len = [len(i) for i in negative_positive_chapter_table.column('Positive Words')]\n",
    "negative_positive_chapter_total = np.array(negative_chapter_words_len) + np.array(positive_chapter_words_len)\n",
    "almost_final_chapter_table = negative_positive_chapter_table.with_column(\n",
    "                            'Negative Count', negative_chapter_words_len).with_column(\n",
    "                            'Positive Count', positive_chapter_words_len).with_column(\n",
    "                            'Total Count', negative_positive_chapter_total)\n",
    "chapter_length = [len(i) for i in almost_final_chapter_table.column('Segment')]\n",
    "chapter_percentage = negative_positive_chapter_total / chapter_length\n",
    "final_chapter_table = almost_final_chapter_table.with_column('Percentage', chapter_percentage)\n",
    "final_chapter_table.show(5)"
   ]
  },
  {
   "cell_type": "markdown",
   "metadata": {},
   "source": [
    "## Counting Sentiment Words by Sentence"
   ]
  },
  {
   "cell_type": "code",
   "execution_count": null,
   "metadata": {
    "collapsed": true,
    "scrolled": true
   },
   "outputs": [],
   "source": [
    "#Example of old code: \n",
    "#sentence_list = passage_string.split('.')\n",
    "#len(sentence_list)\n",
    "#sentence_array = np.array(sentence_list)\n",
    "#sentence_array"
   ]
  },
  {
   "cell_type": "code",
   "execution_count": null,
   "metadata": {
    "collapsed": false,
    "scrolled": true
   },
   "outputs": [],
   "source": [
    "sentence_list = sent_tokenize(passage_string)"
   ]
  },
  {
   "cell_type": "code",
   "execution_count": null,
   "metadata": {
    "collapsed": false,
    "scrolled": true
   },
   "outputs": [],
   "source": [
    "sentence_number = [(i+1) for i in range(len(sentence_list))]\n",
    "sentence_text = [i for i in sentence_list]\n",
    "sentence_table = Table().with_column('Sentence Number', sentence_number).with_column('Sentence Text', sentence_text)\n",
    "sentence_table"
   ]
  },
  {
   "cell_type": "code",
   "execution_count": null,
   "metadata": {
    "collapsed": false,
    "scrolled": true
   },
   "outputs": [],
   "source": [
    "def negative(string): \n",
    "    word_list = []\n",
    "    for i in string.split(): \n",
    "        if stemmer.stem(i) in negative_stems: \n",
    "            word_list.append(i)\n",
    "    return word_list\n",
    "negative('an ugly dirty ugly bad dog')"
   ]
  },
  {
   "cell_type": "code",
   "execution_count": null,
   "metadata": {
    "collapsed": false,
    "scrolled": true
   },
   "outputs": [],
   "source": [
    "def positive(string): \n",
    "    word_list = []\n",
    "    for i in string.split():\n",
    "        if stemmer.stem(i) in positive_stems:\n",
    "            word_list.append(i)\n",
    "    return word_list\n",
    "positive('a beautiful happy happy wonderful dog')"
   ]
  },
  {
   "cell_type": "code",
   "execution_count": null,
   "metadata": {
    "collapsed": false,
    "scrolled": true
   },
   "outputs": [],
   "source": [
    "negative_sentence_words = sentence_table.apply(negative, 'Sentence Text')\n",
    "positive_sentence_words = sentence_table.apply(positive, 'Sentence Text')\n",
    "almost_final_sentence_table = sentence_table.with_column('Negative Words', negative_sentence_words).with_column(\n",
    "                                                'Positive Words', positive_sentence_words)\n",
    "almost_final_sentence_table\n",
    "negative_sentence_words_len = [len(i) for i in almost_final_sentence_table.column('Negative Words')]\n",
    "positive_sentence_words_len = [len(i) for i in almost_final_sentence_table.column('Positive Words')]\n",
    "negative_positive_sentence_total = np.array(positive_sentence_words_len) + np.array(negative_sentence_words_len)\n",
    "sentence_length = [len(i.split()) for i in almost_final_sentence_table.column('Sentence Text')]\n",
    "sentence_percentage = negative_positive_sentence_total / sentence_length\n",
    "final_sentence_table = almost_final_sentence_table.with_column('Negative Count', negative_sentence_words_len).with_column(\n",
    "                                                                'Positive Count', positive_sentence_words_len).with_column(\n",
    "                                                                'Total', negative_positive_sentence_total).with_column(\n",
    "                                                                'Percentage', sentence_percentage)\n",
    "final_sentence_table.show(5)"
   ]
  },
  {
   "cell_type": "code",
   "execution_count": null,
   "metadata": {
    "collapsed": true,
    "scrolled": true
   },
   "outputs": [],
   "source": [
    "#At this point I have produced tables that tally up the negative and positive words in each chapter in the text and each sentence\n",
    "#In the text.\n",
    "#Next Steps: \n",
    "#Look at concrete words. \n",
    "#Put everything in standard units \n",
    "#Plot the data\n",
    "#Study the maps, compare the maps, see what inferences can be drawn\n",
    "#Look at outliers, those areas that deviate pretty strongly from the average "
   ]
  },
  {
   "cell_type": "markdown",
   "metadata": {},
   "source": [
    "## Counting Concrete Words by Sentence and Chapter"
   ]
  },
  {
   "cell_type": "code",
   "execution_count": null,
   "metadata": {
    "collapsed": false,
    "scrolled": true
   },
   "outputs": [],
   "source": [
    "words = Table.read_table('Data8ConcreteCSV.csv')\n",
    "concrete_table = words.where(words.column('Object') == 'Object')\n",
    "concrete_array = concrete_table.column('Entry')\n",
    "concrete_array\n",
    "concrete_string = str(concrete_array)\n",
    "concrete_lower = concrete_string.lower()\n",
    "concrete_tokens = word_tokenize(concrete_lower)\n",
    "concrete_tokens = [\"\".join([char for char in word if char.isalpha()]) for word in concrete_tokens]\n",
    "concrete_stems = [stemmer.stem(token) for token in concrete_tokens]"
   ]
  },
  {
   "cell_type": "code",
   "execution_count": null,
   "metadata": {
    "collapsed": false,
    "scrolled": true
   },
   "outputs": [],
   "source": [
    "def concrete(string): \n",
    "    word_list = []\n",
    "    for i in string.split():\n",
    "        if stemmer.stem(i) in concrete_stems:\n",
    "            word_list.append(i)\n",
    "    return word_list\n",
    "\n",
    "concrete('a big bag of ammunition')"
   ]
  },
  {
   "cell_type": "code",
   "execution_count": null,
   "metadata": {
    "collapsed": false,
    "scrolled": true
   },
   "outputs": [],
   "source": [
    "concrete_words_sentence = sentence_table.apply(concrete, 'Sentence Text')\n",
    "concrete_words_sentence_table = sentence_table.with_column('Concrete Words', concrete_words_sentence)\n",
    "concrete_lengths_sentence = [len(i) for i in concrete_words_sentence_table.column('Concrete Words')]\n",
    "concrete_percentage_sentence = np.array(concrete_lengths_sentence) / sentence_length\n",
    "concreteness_table_sentence = concrete_words_sentence_table.with_column(\n",
    "                            'Total Count', concrete_lengths_sentence).with_column(\n",
    "                            'Percentage', concrete_percentage_sentence)\n",
    "concreteness_table_sentence.show(5)"
   ]
  },
  {
   "cell_type": "code",
   "execution_count": null,
   "metadata": {
    "collapsed": false,
    "scrolled": true
   },
   "outputs": [],
   "source": [
    "concrete_words_chapter = chapter_table.apply(concrete, 'Segment')\n",
    "concrete_words_chapter_table = chapter_table.with_column('Concrete Words', concrete_words_chapter)\n",
    "concrete_lengths_chapter = [len(i) for i in concrete_words_chapter_table.column('Concrete Words')]\n",
    "concrete_percentage_chapter = np.array(concrete_lengths_chapter) / np.array(chapter_length)\n",
    "concreteness_table_chapter = concrete_words_chapter_table.with_column('Total Count', concrete_lengths_chapter).with_column(\n",
    "                                                                        'Percentage', concrete_percentage_chapter)\n",
    "concreteness_table_chapter.show(5)"
   ]
  },
  {
   "cell_type": "markdown",
   "metadata": {},
   "source": [
    "## Standard Units for Sentiment Words"
   ]
  },
  {
   "cell_type": "code",
   "execution_count": null,
   "metadata": {
    "collapsed": true,
    "scrolled": true
   },
   "outputs": [],
   "source": [
    "def standard_units(any_numbers):\n",
    "    return (any_numbers - np.mean(any_numbers)) / np.std(any_numbers)"
   ]
  },
  {
   "cell_type": "code",
   "execution_count": null,
   "metadata": {
    "collapsed": false,
    "scrolled": true
   },
   "outputs": [],
   "source": [
    "print('Average Percentage of Sentiment Words:') \n",
    "print(np.mean(final_sentence_table.column('Percentage')))\n",
    "print('Standard Deviation:')\n",
    "print(np.std(final_sentence_table.column('Percentage')))\n",
    "\n",
    "array_percent_sent = final_sentence_table.column('Percentage') \n",
    "\n",
    "standard_units(array_percent_sent)\n",
    "\n",
    "sentiment_su_sentence_table = final_sentence_table.with_column(\n",
    "                            'SU', standard_units(array_percent_sent)).select(['Sentence Number', 'Total', 'Percentage', 'SU'])\n",
    "sentiment_su_sentence_table.sort('SU', descending=True)"
   ]
  },
  {
   "cell_type": "code",
   "execution_count": null,
   "metadata": {
    "collapsed": false,
    "scrolled": true
   },
   "outputs": [],
   "source": [
    "print('Average Percentage of Sentiment Words:') \n",
    "print(np.mean(final_chapter_table.column('Percentage')))\n",
    "print('Standard Deviation:')\n",
    "print(np.std(final_chapter_table.column('Percentage')))\n",
    "\n",
    "standard_units(final_chapter_table.column('Percentage'))\n",
    "\n",
    "sentiment_su_chapter_table = final_chapter_table.with_column(\n",
    "                    'SU', standard_units(final_chapter_table.column('Percentage'))).select([\n",
    "                    'Chapter', 'Total Count', 'Percentage', 'SU'])\n",
    "sentiment_su_chapter_table.sort('SU', descending=True)"
   ]
  },
  {
   "cell_type": "markdown",
   "metadata": {},
   "source": [
    "## Standard Units for Concrete Words"
   ]
  },
  {
   "cell_type": "code",
   "execution_count": null,
   "metadata": {
    "collapsed": false,
    "scrolled": true
   },
   "outputs": [],
   "source": [
    "print('Average Percentage of Concrete Words:') \n",
    "print(np.mean(concreteness_table_sentence.column('Percentage')))\n",
    "print('Standard Deviation:')\n",
    "print(np.std(concreteness_table_sentence.column('Percentage')))\n",
    "\n",
    "standard_units(concreteness_table_sentence.column('Percentage'))\n",
    "\n",
    "concrete_su_sentence_table = concreteness_table_sentence.with_column(\n",
    "                            'SU',standard_units(concreteness_table_sentence.column('Percentage'))).select([\n",
    "                            'Sentence Number', 'Total Count', 'Percentage', 'SU'])\n",
    "concrete_su_sentence_table.sort('SU', descending=True)"
   ]
  },
  {
   "cell_type": "code",
   "execution_count": null,
   "metadata": {
    "collapsed": false,
    "scrolled": false
   },
   "outputs": [],
   "source": [
    "print('Average Percentage of Concrete Words:') \n",
    "print(np.mean(concreteness_table_chapter.column('Percentage')))\n",
    "print('Standard Deviation:')\n",
    "print(np.std(concreteness_table_chapter.column('Percentage')))\n",
    "\n",
    "concrete_su_chapter_table = concreteness_table_chapter.with_column(\n",
    "                            'SU', standard_units(concreteness_table_chapter.column('Percentage'))).select([\n",
    "                            'Chapter', 'Total Count', 'Percentage', 'SU'])\n",
    "concrete_su_chapter_table.sort('SU', descending=True)"
   ]
  },
  {
   "cell_type": "markdown",
   "metadata": {},
   "source": [
    "## Data"
   ]
  },
  {
   "cell_type": "code",
   "execution_count": null,
   "metadata": {
    "collapsed": true,
    "scrolled": true
   },
   "outputs": [],
   "source": [
    "#The following cell is my data for sentiment in sentences. "
   ]
  },
  {
   "cell_type": "code",
   "execution_count": null,
   "metadata": {
    "collapsed": false,
    "scrolled": true
   },
   "outputs": [],
   "source": [
    "sentiment_su_sentence_table.where(sentiment_su_sentence_table.column('SU') >= 4).sort('SU', descending=True)"
   ]
  },
  {
   "cell_type": "code",
   "execution_count": null,
   "metadata": {
    "collapsed": false,
    "scrolled": true
   },
   "outputs": [],
   "source": [
    "final_sentence_table.where(final_sentence_table.column('Percentage') > .35).sort('Percentage', descending=True)"
   ]
  },
  {
   "cell_type": "code",
   "execution_count": null,
   "metadata": {
    "collapsed": false,
    "scrolled": true
   },
   "outputs": [],
   "source": [
    "sentence_number = [i for i in range(len(sentence_list))]\n",
    "sentiment_su_sentence = sentiment_su_sentence_table.column('SU')\n",
    "plt.plot(sentence_number, sentiment_su_sentence)\n",
    "plt.ylabel('Sentiment in SU')\n",
    "plt.xlabel('Sentence in Text')"
   ]
  },
  {
   "cell_type": "code",
   "execution_count": null,
   "metadata": {
    "collapsed": true,
    "scrolled": true
   },
   "outputs": [],
   "source": [
    "#The following cell is my data for sentiment in chapters. "
   ]
  },
  {
   "cell_type": "code",
   "execution_count": null,
   "metadata": {
    "collapsed": false,
    "scrolled": true
   },
   "outputs": [],
   "source": [
    "sentiment_su_chapter_table.where(sentiment_su_chapter_table.column('SU') >= 1).sort('SU', descending=True)"
   ]
  },
  {
   "cell_type": "code",
   "execution_count": null,
   "metadata": {
    "collapsed": false,
    "scrolled": true
   },
   "outputs": [],
   "source": [
    "sentiment_su_chapter_table.where(sentiment_su_chapter_table.column('SU') <= -1).sort('SU')"
   ]
  },
  {
   "cell_type": "code",
   "execution_count": null,
   "metadata": {
    "collapsed": false,
    "scrolled": true
   },
   "outputs": [],
   "source": [
    "reduced_sent = sentiment_su_chapter_table.with_column('Chapter Number', np.arange(1, 38, 1)).select(['Chapter Number', 'SU'])"
   ]
  },
  {
   "cell_type": "code",
   "execution_count": null,
   "metadata": {
    "collapsed": false,
    "scrolled": true
   },
   "outputs": [],
   "source": [
    "CHAPTERS_SENT = reduced_sent.column('Chapter Number')\n",
    "SU_SENT = reduced_sent.column('SU')\n",
    "plt.plot(CHAPTERS_SENT, SU_SENT)\n",
    "plt.ylabel('Sentiment in SU')\n",
    "plt.xlabel('Chapter in Text')"
   ]
  },
  {
   "cell_type": "code",
   "execution_count": null,
   "metadata": {
    "collapsed": true,
    "scrolled": true
   },
   "outputs": [],
   "source": [
    "#The following cell is my data for concreteness in sentences."
   ]
  },
  {
   "cell_type": "code",
   "execution_count": null,
   "metadata": {
    "collapsed": false,
    "scrolled": true
   },
   "outputs": [],
   "source": [
    "concrete_su_sentence_table.where(concrete_su_sentence_table.column('SU') >= 5).sort('SU', descending=True).show()"
   ]
  },
  {
   "cell_type": "code",
   "execution_count": null,
   "metadata": {
    "collapsed": false,
    "scrolled": true
   },
   "outputs": [],
   "source": [
    "concreteness_table_sentence.where(concreteness_table_sentence.column('Percentage') > .15)"
   ]
  },
  {
   "cell_type": "code",
   "execution_count": null,
   "metadata": {
    "collapsed": false,
    "scrolled": true
   },
   "outputs": [],
   "source": [
    "concrete_su_sentence = concrete_su_sentence_table.column('SU')\n",
    "plt.plot(sentence_number, concrete_su_sentence)\n",
    "plt.ylabel('Concreteness in SU')\n",
    "plt.xlabel('Sentence in Text')"
   ]
  },
  {
   "cell_type": "code",
   "execution_count": null,
   "metadata": {
    "collapsed": true,
    "scrolled": true
   },
   "outputs": [],
   "source": [
    "#The following cell is my data for concreteness in chapters."
   ]
  },
  {
   "cell_type": "code",
   "execution_count": null,
   "metadata": {
    "collapsed": false,
    "scrolled": true
   },
   "outputs": [],
   "source": [
    "print(np.max(concrete_su_chapter_table.column('SU')))\n",
    "concrete_su_chapter_table.where(concrete_su_chapter_table.column('SU') >= 1).sort('SU', descending=True)"
   ]
  },
  {
   "cell_type": "code",
   "execution_count": null,
   "metadata": {
    "collapsed": false,
    "scrolled": true
   },
   "outputs": [],
   "source": [
    "print(np.min(concrete_su_chapter_table.column('SU')))\n",
    "concrete_su_chapter_table.where(concrete_su_chapter_table.column('SU') <= -1).sort('SU')"
   ]
  },
  {
   "cell_type": "code",
   "execution_count": null,
   "metadata": {
    "collapsed": false,
    "scrolled": true
   },
   "outputs": [],
   "source": [
    "reduced = concrete_su_chapter_table.with_column('Chapter Number', np.arange(1, 38, 1)).select(['Chapter Number', 'SU'])\n",
    "CHAPTERS_CONCRETE = reduced.column('Chapter Number')\n",
    "SU_CONCRETE = reduced.column('SU')\n",
    "plt.plot(CHAPTERS_CONCRETE, SU_CONCRETE)\n",
    "plt.ylabel('Concrete in SU')\n",
    "plt.xlabel('Chapter in Text')"
   ]
  },
  {
   "cell_type": "code",
   "execution_count": null,
   "metadata": {
    "collapsed": false,
    "scrolled": true
   },
   "outputs": [],
   "source": [
    "plt.plot(CHAPTERS_SENT, SU_SENT)\n",
    "plt.plot(CHAPTERS_CONCRETE, SU_CONCRETE)\n",
    "plt.ylabel('Sentiment or Concrete in Text')\n",
    "plt.xlabel('Chapter in Text')"
   ]
  },
  {
   "cell_type": "markdown",
   "metadata": {},
   "source": [
    "## Looking More In-Depth at Chapters 32 and 33"
   ]
  },
  {
   "cell_type": "code",
   "execution_count": null,
   "metadata": {
    "collapsed": true,
    "scrolled": true
   },
   "outputs": [],
   "source": [
    "chapter_1_segment = final_chapter_table.where(final_chapter_table.column('Chapter') == 'Chapter 1').column('Segment')\n",
    "chapter_1_sentences = sent_tokenize(str(chapter_1_segment))\n",
    "len(chapter_1_sentences)"
   ]
  },
  {
   "cell_type": "code",
   "execution_count": null,
   "metadata": {
    "collapsed": false,
    "scrolled": true
   },
   "outputs": [],
   "source": [
    "def length_chapter(label):\n",
    "    chapter_segment = final_chapter_table.where(final_chapter_table.column('Chapter') == label).column('Segment')\n",
    "    chapter_sentences = sent_tokenize(str(chapter_segment))\n",
    "    return len(chapter_sentences)\n",
    "\n",
    "sentences_in_chapter = final_chapter_table.apply(length_chapter, 'Chapter')\n",
    "final_chapter_table.append_column('Sentences in Chapter', sentences_in_chapter)\n",
    "\n",
    "final_chapter_table.where(final_chapter_table.column('Chapter') == 'Chapter 32')\n",
    "print(sentences_in_chapter)\n",
    "print(sum(sentences_in_chapter) - (146 + 93 + 178 + 282 + 158 + 16))\n",
    "\n",
    "final_sentence_table.where(np.logical_and(final_sentence_table.column('Sentence Number') >= 6620, \n",
    "                                         final_sentence_table.column('Sentence Number') <= 6628))\n",
    "final_sentence_table.where(final_sentence_table.column('Sentence Number') == 6599)"
   ]
  },
  {
   "cell_type": "code",
   "execution_count": null,
   "metadata": {
    "collapsed": false,
    "scrolled": true
   },
   "outputs": [],
   "source": [
    "chapter_32_sentiment = sentiment_su_sentence_table.where(np.logical_and(sentiment_su_sentence_table.column('Sentence Number') >= 6597, \n",
    "                                                sentiment_su_sentence_table.column('Sentence Number') <= 6613)).sort('SU', descending=True)\n",
    "chapter_32_sentiment"
   ]
  },
  {
   "cell_type": "code",
   "execution_count": null,
   "metadata": {
    "collapsed": false,
    "scrolled": true
   },
   "outputs": [],
   "source": [
    "chapter_32_concrete = concrete_su_sentence_table.where(np.logical_and(concrete_su_sentence_table.column('Sentence Number') >= 6597, \n",
    "                                               concrete_su_sentence_table.column('Sentence Number') <= 6613)).sort('SU', descending=True)\n",
    "chapter_32_concrete"
   ]
  },
  {
   "cell_type": "code",
   "execution_count": null,
   "metadata": {
    "collapsed": false,
    "scrolled": true
   },
   "outputs": [],
   "source": [
    "chapter_33_sentiment = sentiment_su_sentence_table.where(np.logical_and(sentiment_su_sentence_table.column('Sentence Number') > 6613, \n",
    "                                                sentiment_su_sentence_table.column('Sentence Number') <= 6759)).sort('SU')\n",
    "chapter_33_sentiment"
   ]
  },
  {
   "cell_type": "code",
   "execution_count": null,
   "metadata": {
    "collapsed": false,
    "scrolled": true
   },
   "outputs": [],
   "source": [
    "chapter_33_concrete = concrete_su_sentence_table.where(np.logical_and(concrete_su_sentence_table.column('Sentence Number') > 6620, \n",
    "                                                                     concrete_su_sentence_table.column('Sentence Number') <= 6625))\n",
    "chapter_33_concrete.sort('SU', descending=True)"
   ]
  },
  {
   "cell_type": "markdown",
   "metadata": {},
   "source": [
    "## Extra: Visualizing the Chapter Data (Before SU)"
   ]
  },
  {
   "cell_type": "code",
   "execution_count": null,
   "metadata": {
    "collapsed": false,
    "scrolled": true
   },
   "outputs": [],
   "source": [
    "#Example graph from the internet: \n",
    "import matplotlib.pyplot as plt\n",
    "plt.plot([1,2,3,4])\n",
    "plt.ylabel('some numbers')\n",
    "example = plt.savefig('example.png')"
   ]
  },
  {
   "cell_type": "code",
   "execution_count": null,
   "metadata": {
    "collapsed": false,
    "scrolled": true
   },
   "outputs": [],
   "source": [
    "chapter_number = [i+1 for i in range(len(passage_array))]\n",
    "len(chapter_number)"
   ]
  },
  {
   "cell_type": "code",
   "execution_count": null,
   "metadata": {
    "collapsed": false,
    "scrolled": true
   },
   "outputs": [],
   "source": [
    "chapter_number = [i+1 for i in range(len(chapter_rows))]\n",
    "plt.plot(chapter_number, chapter_percentage)\n",
    "plt.ylabel('Percentage of Sentiment')\n",
    "plt.xlabel('Chapter in Novel')"
   ]
  },
  {
   "cell_type": "code",
   "execution_count": null,
   "metadata": {
    "collapsed": false,
    "scrolled": true
   },
   "outputs": [],
   "source": [
    "short_table = final_chapter_table.with_column('Chapter Number', chapter_number).select(['Chapter Number', 'Percentage'])\n",
    "short_table.scatter('Chapter Number')"
   ]
  },
  {
   "cell_type": "code",
   "execution_count": null,
   "metadata": {
    "collapsed": false,
    "scrolled": true
   },
   "outputs": [],
   "source": [
    "array = np.array(chapter_number)\n",
    "chapters_part_one = array.take(np.arange(0, 11))\n",
    "percents_part_one = chapter_percentage.take(np.arange(0, 11))\n",
    "plt.plot(chapters_part_one, percents_part_one)\n",
    "plt.ylabel('Percentage of Sentiment')\n",
    "plt.xlabel('Chapter in Part One')"
   ]
  },
  {
   "cell_type": "code",
   "execution_count": null,
   "metadata": {
    "collapsed": false,
    "scrolled": true
   },
   "outputs": [],
   "source": [
    "chapters_part_two = array.take(np.arange(12, 32))\n",
    "percents_part_two = chapter_percentage.take(np.arange(12, 32))\n",
    "plt.plot(chapters_part_two, percents_part_two)\n",
    "plt.ylabel('Percentage of Sentiment')\n",
    "plt.xlabel('Chapter in Part Two')"
   ]
  },
  {
   "cell_type": "code",
   "execution_count": null,
   "metadata": {
    "collapsed": false,
    "scrolled": true
   },
   "outputs": [],
   "source": [
    "chapters_part_three = array.take(np.arange(33, 37))\n",
    "percents_part_three = chapter_percentage.take(np.arange(33, 37))\n",
    "plt.plot(chapters_part_three, percents_part_three)\n",
    "plt.ylabel('Percentage of Sentiment')\n",
    "plt.xlabel('Chapter in Part Three')"
   ]
  },
  {
   "cell_type": "markdown",
   "metadata": {},
   "source": [
    "## Extra: Visualizing the Sentence Data (Before SU)"
   ]
  },
  {
   "cell_type": "code",
   "execution_count": null,
   "metadata": {
    "collapsed": false,
    "scrolled": true
   },
   "outputs": [],
   "source": [
    "sentence_number = [i+1 for i in range(len(sentence_list))]"
   ]
  },
  {
   "cell_type": "code",
   "execution_count": null,
   "metadata": {
    "collapsed": false,
    "scrolled": false
   },
   "outputs": [],
   "source": [
    "plt.plot(sentence_number, sentence_percentage)\n",
    "plt.ylabel('Percentage of Sentiment Words')\n",
    "plt.xlabel('Sentence in Text')"
   ]
  },
  {
   "cell_type": "code",
   "execution_count": null,
   "metadata": {
    "collapsed": false,
    "scrolled": true
   },
   "outputs": [],
   "source": [
    "array = np.array(sentence_number)\n",
    "sentence_array = array.take(np.arange(1200, 1400))\n",
    "percentage_array = percentage.take(np.arange(1200, 1400))\n",
    "plt.plot(sentence_array, percentage_array)"
   ]
  },
  {
   "cell_type": "code",
   "execution_count": null,
   "metadata": {
    "collapsed": false,
    "scrolled": true
   },
   "outputs": [],
   "source": [
    "plt.plot(sentence_number, negative_sentence_words_len)"
   ]
  },
  {
   "cell_type": "code",
   "execution_count": null,
   "metadata": {
    "collapsed": false,
    "scrolled": true
   },
   "outputs": [],
   "source": [
    "plt.plot(sentence_number, positive_sentence_words_len)"
   ]
  },
  {
   "cell_type": "code",
   "execution_count": null,
   "metadata": {
    "collapsed": false,
    "scrolled": true
   },
   "outputs": [],
   "source": [
    "negative_percent = np.array(negative_sentence_words_len) / sentence_length\n",
    "negative_percent\n",
    "plt.plot(sentence_number, negative_percent)"
   ]
  },
  {
   "cell_type": "code",
   "execution_count": null,
   "metadata": {
    "collapsed": false,
    "scrolled": true
   },
   "outputs": [],
   "source": [
    "positive_percent = np.array(positive_sentence_words_len) / sentence_length\n",
    "plt.plot(sentence_number, positive_percent)"
   ]
  },
  {
   "cell_type": "code",
   "execution_count": null,
   "metadata": {
    "collapsed": false,
    "scrolled": true
   },
   "outputs": [],
   "source": [
    "plt.plot(sentence_number, negative_percent)\n",
    "plt.plot(sentence_number, positive_percent)"
   ]
  },
  {
   "cell_type": "code",
   "execution_count": null,
   "metadata": {
    "collapsed": false,
    "scrolled": true
   },
   "outputs": [],
   "source": [
    "final_sentence_table.with_column('Sentence Number', sentence_number).select(['Sentence Number', 'Percentage']).scatter('Sentence Number')"
   ]
  },
  {
   "cell_type": "markdown",
   "metadata": {},
   "source": [
    "## Visualizing Concrete Data"
   ]
  },
  {
   "cell_type": "code",
   "execution_count": null,
   "metadata": {
    "collapsed": false,
    "scrolled": true
   },
   "outputs": [],
   "source": [
    "plt.plot(sentence_number, concrete_percentage_sentence)\n",
    "plt.ylabel('Percentage of Concrete Words')\n",
    "plt.xlabel('Sentence in Text')"
   ]
  },
  {
   "cell_type": "code",
   "execution_count": null,
   "metadata": {
    "collapsed": false,
    "scrolled": true
   },
   "outputs": [],
   "source": [
    "plt.plot(chapter_number, concrete_percentage_chapter)\n",
    "plt.ylabel('Percentage of Concrete Words')\n",
    "plt.xlabel('Chapter in Text')"
   ]
  },
  {
   "cell_type": "code",
   "execution_count": null,
   "metadata": {
    "collapsed": false,
    "scrolled": true
   },
   "outputs": [],
   "source": [
    "concrete_part_one = concrete_percentage_chapter.take(np.arange(0, 11))\n",
    "plt.plot(chapters_part_one, concrete_part_one)\n",
    "plt.ylabel('Percentage of Concrete Words')\n",
    "plt.xlabel('Chapter in Part One')"
   ]
  },
  {
   "cell_type": "code",
   "execution_count": null,
   "metadata": {
    "collapsed": false,
    "scrolled": true
   },
   "outputs": [],
   "source": [
    "concrete_part_two = concrete_percentage_chapter.take(np.arange(12, 32))\n",
    "plt.plot(chapters_part_two, concrete_part_two)\n",
    "plt.ylabel('Percentage of Concrete Words')\n",
    "plt.xlabel('Chapter in Part Two')"
   ]
  },
  {
   "cell_type": "code",
   "execution_count": null,
   "metadata": {
    "collapsed": false,
    "scrolled": true
   },
   "outputs": [],
   "source": [
    "concrete_part_three = concrete_percentage_chapter.take(np.arange(33, 37))\n",
    "plt.plot(chapters_part_three, concrete_part_three)\n",
    "plt.ylabel('Percentage of Concrete Words')\n",
    "plt.xlabel('Chapter in Part Three')"
   ]
  },
  {
   "cell_type": "code",
   "execution_count": null,
   "metadata": {
    "collapsed": false,
    "scrolled": true
   },
   "outputs": [],
   "source": [
    "concreteness_table_sentence.with_column('Sentence Number', sentence_number).select(['Sentence Number', 'Percentage']).scatter('Sentence Number')"
   ]
  },
  {
   "cell_type": "code",
   "execution_count": null,
   "metadata": {
    "collapsed": false,
    "scrolled": true
   },
   "outputs": [],
   "source": [
    "plt.plot(chapter_number, concrete_percentage_chapter)\n",
    "plt.plot(chapter_number, chapter_percentage)"
   ]
  },
  {
   "cell_type": "code",
   "execution_count": null,
   "metadata": {
    "collapsed": true,
    "scrolled": true
   },
   "outputs": [],
   "source": []
  }
 ],
 "metadata": {
  "kernelspec": {
   "display_name": "Python 3",
   "language": "python",
   "name": "python3"
  },
  "language_info": {
   "codemirror_mode": {
    "name": "ipython",
    "version": 3
   },
   "file_extension": ".py",
   "mimetype": "text/x-python",
   "name": "python",
   "nbconvert_exporter": "python",
   "pygments_lexer": "ipython3",
   "version": "3.5.1"
  }
 },
 "nbformat": 4,
 "nbformat_minor": 0
}
